{
  "nbformat": 4,
  "nbformat_minor": 0,
  "metadata": {
    "colab": {
      "name": "plot_simi.ipynb",
      "provenance": [],
      "toc_visible": true
    },
    "kernelspec": {
      "name": "python3",
      "display_name": "Python 3"
    }
  },
  "cells": [
    {
      "cell_type": "code",
      "metadata": {
        "id": "f7Fl5Nf1drDJ",
        "outputId": "37d6e16c-b777-448d-8def-e35aec28254b",
        "colab": {
          "base_uri": "https://localhost:8080/",
          "height": 34
        }
      },
      "source": [
        "\n",
        "from google.colab import drive\n",
        "drive.mount('/content/drive')"
      ],
      "execution_count": 1,
      "outputs": [
        {
          "output_type": "stream",
          "text": [
            "Mounted at /content/drive\n"
          ],
          "name": "stdout"
        }
      ]
    },
    {
      "cell_type": "code",
      "metadata": {
        "id": "6tXnEja2cQCg"
      },
      "source": [
        "import numpy as np\n",
        "import pandas as pd\n",
        "\n",
        "import tensorflow as tf\n",
        "import tensorflow_hub as hub\n",
        "\n",
        "import random\n",
        "\n",
        "from scipy import spatial\n",
        "from sklearn.metrics.pairwise import cosine_similarity"
      ],
      "execution_count": 3,
      "outputs": []
    },
    {
      "cell_type": "code",
      "metadata": {
        "cellView": "form",
        "id": "zwty8Z6mAkdV",
        "outputId": "d8fb876c-33a0-4a02-ccfc-367dbf1f1d03",
        "colab": {
          "base_uri": "https://localhost:8080/",
          "height": 34
        }
      },
      "source": [
        "#@title Load the Universal Sentence Encoder's TF Hub module\n",
        "from absl import logging\n",
        "\n",
        "import tensorflow as tf\n",
        "\n",
        "import tensorflow_hub as hub\n",
        "import matplotlib.pyplot as plt\n",
        "import numpy as np\n",
        "import os\n",
        "import pandas as pd\n",
        "import re\n",
        "import seaborn as sns\n",
        "\n",
        "module_url = \"https://tfhub.dev/google/universal-sentence-encoder/4\" #@param [\"https://tfhub.dev/google/universal-sentence-encoder/4\", \"https://tfhub.dev/google/universal-sentence-encoder-large/5\"]\n",
        "model = hub.load(module_url)\n",
        "print (\"module %s loaded\" % module_url)\n",
        "def embed(input):\n",
        "  return model(input)"
      ],
      "execution_count": 4,
      "outputs": [
        {
          "output_type": "stream",
          "text": [
            "module https://tfhub.dev/google/universal-sentence-encoder/4 loaded\n"
          ],
          "name": "stdout"
        }
      ]
    },
    {
      "cell_type": "markdown",
      "metadata": {
        "id": "M4kcYcDaTyc4"
      },
      "source": [
        "# Code"
      ]
    },
    {
      "cell_type": "code",
      "metadata": {
        "id": "TlYbDsoxSapc"
      },
      "source": [
        "df = pd.read_csv(\"/content/plot_lines.csv\")"
      ],
      "execution_count": 11,
      "outputs": []
    },
    {
      "cell_type": "code",
      "metadata": {
        "id": "tD3V_e9lVHb0",
        "outputId": "0bbe562e-17d2-4866-f08d-a1a92987a3bc",
        "colab": {
          "base_uri": "https://localhost:8080/",
          "height": 204
        }
      },
      "source": [
        "df.head()"
      ],
      "execution_count": 12,
      "outputs": [
        {
          "output_type": "execute_result",
          "data": {
            "text/html": [
              "<div>\n",
              "<style scoped>\n",
              "    .dataframe tbody tr th:only-of-type {\n",
              "        vertical-align: middle;\n",
              "    }\n",
              "\n",
              "    .dataframe tbody tr th {\n",
              "        vertical-align: top;\n",
              "    }\n",
              "\n",
              "    .dataframe thead th {\n",
              "        text-align: right;\n",
              "    }\n",
              "</style>\n",
              "<table border=\"1\" class=\"dataframe\">\n",
              "  <thead>\n",
              "    <tr style=\"text-align: right;\">\n",
              "      <th></th>\n",
              "      <th>id</th>\n",
              "      <th>Movie_Name</th>\n",
              "      <th>Plot</th>\n",
              "    </tr>\n",
              "  </thead>\n",
              "  <tbody>\n",
              "    <tr>\n",
              "      <th>0</th>\n",
              "      <td>8844</td>\n",
              "      <td>Jumanji</td>\n",
              "      <td>Four teenagers are sucked into a magical video...</td>\n",
              "    </tr>\n",
              "    <tr>\n",
              "      <th>1</th>\n",
              "      <td>11517</td>\n",
              "      <td>Money Train</td>\n",
              "      <td>A vengeful New York City transit cop decides t...</td>\n",
              "    </tr>\n",
              "    <tr>\n",
              "      <th>2</th>\n",
              "      <td>9598</td>\n",
              "      <td>Babe</td>\n",
              "      <td>Babe, a pig raised by sheepdogs, learns to her...</td>\n",
              "    </tr>\n",
              "    <tr>\n",
              "      <th>3</th>\n",
              "      <td>26441</td>\n",
              "      <td>The Big Green</td>\n",
              "      <td>A teacher on exchange from England is placed i...</td>\n",
              "    </tr>\n",
              "    <tr>\n",
              "      <th>4</th>\n",
              "      <td>9089</td>\n",
              "      <td>Home for the Holidays</td>\n",
              "      <td>After losing her job, making out with her soon...</td>\n",
              "    </tr>\n",
              "  </tbody>\n",
              "</table>\n",
              "</div>"
            ],
            "text/plain": [
              "      id  ...                                               Plot\n",
              "0   8844  ...  Four teenagers are sucked into a magical video...\n",
              "1  11517  ...  A vengeful New York City transit cop decides t...\n",
              "2   9598  ...  Babe, a pig raised by sheepdogs, learns to her...\n",
              "3  26441  ...  A teacher on exchange from England is placed i...\n",
              "4   9089  ...  After losing her job, making out with her soon...\n",
              "\n",
              "[5 rows x 3 columns]"
            ]
          },
          "metadata": {
            "tags": []
          },
          "execution_count": 12
        }
      ]
    },
    {
      "cell_type": "code",
      "metadata": {
        "id": "SI8wjdQhVFFT",
        "outputId": "8a28fdef-a520-42c0-9fea-fd3d2b171eeb",
        "colab": {
          "base_uri": "https://localhost:8080/",
          "height": 122
        }
      },
      "source": [
        "ids = df[\"id\"].tolist()\n",
        "plots = df[\"Plot\"].tolist()\n",
        "plots_vectors = embed(plots)\n",
        "\n",
        "def calc_similarity(user_plot, plots_vectors, df):\n",
        "    user_plot_vector = embed([user_plot])\n",
        "    similarities = []\n",
        "    for i in range(len(plots_vectors)):\n",
        "        simi = result = 1 - spatial.distance.cosine(plots_vectors[i],user_plot_vector)\n",
        "        similarities.append((df[\"id\"][i], simi, df[\"Plot\"][i]))\n",
        "    similarities.sort(key = lambda x : x[1],reverse= True)\n",
        "    top_k  = similarities[:20]\n",
        "    print(top_k)\n",
        "    print(\"***********\")\n",
        "    return top_k[random.randint(0,20)]\n",
        "\n",
        "user_plot = \"CEO of Sheppard power plant, an international Company, brings a power plant proposal to set up in rural Maharashtra before the Nagres\"\n",
        "calc_similarity(user_plot, plots_vectors, df)"
      ],
      "execution_count": 13,
      "outputs": [
        {
          "output_type": "stream",
          "text": [
            "[(14394, 0.4635172486305237, \"When Anita Rajan, CEO of Sheppard power plant, an international Company, brings a power plant proposal to set up in rural Maharashtra before the Nagres, insightful Shankar is quick to realize the benefits the power plant can bring to the people. After convincing Sarkar who is against it for various reasons, Shankar undertakes a journey along with Anita to the villages of Maharashtra to mobilize support from the masses. However, things are not what they seem to be and Shankar's dream project gradually becomes a political minefield. It is in this backdrop the evil forces mightier than ever, mushroom and gang up to bring down the regime of Sarkar and obliterate Shankar's name from the political horizon.::gavin (gunmasterM@hotmail.com)\"), (339152, 0.32908475399017334, 'An affectionate portrait of a group of women who, after the 1986 Chernobyl disaster and evacuation, returned to the exclusion zone surrounding the nuclear power plant and have resided there - semi-officially, for years.::TV'), (14289, 0.31574657559394836, 'Going undercover in rural Kentucky, an environmental agent tries to prove the dumping of toxic waste in the local coal mines by ruthless industrialists.'), (11120, 0.2937026917934418, 'An inventor spurns his city life and moves his family into the jungles of Central America to make a utopia.::Will S'), (207641, 0.2928490936756134, 'Terrorists led by an android take over a nuclear plant and threaten to launch a missile at Washington. While the authorities desperately attempt to negotiate, the terrorists persue their real goal. A plant worker, her son and a tough-guy repair man have other ideas, and attempt to stop the terrorists from inside the plant.::Rob Hartill'), (299782, 0.2815125286579132, 'A Hollywood director emerges from semi-exile with plans to complete work on an innovative motion picture.::Noah Orent'), (271677, 0.2805316150188446, 'Arun is an Indian undercover agent enlisted to stop ISI chief Ishaq Khan. The village girl Reshma helps him but endangers her own life.'), (57258, 0.27835890650749207, \"A scout leading a wagon train through hostile Indian country unwittingly gets involved with a Sioux chief's daughter.::<BrianVN@earthlink.net>\"), (46793, 0.27169856429100037, \"Ondrej lives on a farm outside a small town with his family. One day a group of men arrive at the families house and the harmonious life they've led so far changes drastically for the worse.::cockpitanus\"), (29883, 0.26812562346458435, 'Harlan Knowles, billionaire and President of Bio-Comp Industries, heads up a team of experts in a quest to locate a company plane that disappeared over the remote forests of the Pacific Northwest.'), (39283, 0.26173558831214905, \"A genetically manipulated and very hungry dinosaur escapes from a bioengineering company and reeks havoc on the local desert town. A security guard and a girl environmentalist try to stop both it and the company's doomsday bioweapon.::Daniel Jos. Leary\"), (129974, 0.2529892325401306, 'A railroad man and the owner of a freight line battle for control of a crucial mountain pass.::frankfob2@yahoo.com'), (43837, 0.25221362709999084, 'In 1862, Central Pacific and Union Pacific Railroads compete westward across the wilderness toward California.::nufs68'), (6972, 0.24681614339351654, 'Set in northern Australia before World War II, an English aristocrat who inherits a sprawling ranch reluctantly pacts with a stock-man in order to protect her new property from a takeover plot. As the pair drive 2,000 head of cattle over unforgiving landscape, they experience the bombing of Darwin, Australia, by Japanese forces firsthand.::Anonymous'), (375183, 0.24454686045646667, 'A headhunter whose life revolves around closing deals in a survival-of-the-fittest boiler room, battles his top rival for control of their job placement company -- his dream of owning the company clashing with the needs of his family.'), (15774, 0.24234265089035034, 'A successful Indian scientist returns to an Indian village to take his nanny to America with him and in the process rediscovers his roots.::Arun'), (339988, 0.2410377562046051, 'A woman lands a dream job at a powerful tech company called the Circle, only to uncover an agenda that will affect the lives of all of humanity.::Anonymous'), (539, 0.2410198450088501, \"A Phoenix secretary embezzles $40,000 from her employer's client, goes on the run, and checks into a remote motel run by a young man under the domination of his mother.\"), (51980, 0.24099679291248322, \"In mid-nineteenth-century northern France, a coal mining town's workers are exploited by the mine's owner. One day, they decide to go on strike, and the authorities repress them.::Michel Rudoy <mdrc@hp9000a1.uam.mx> and Brian McInnis\"), (74711, 0.24008910357952118, 'An engineer in charge of the production line of a factory in Moscow is sent to a small town to try to specify the distributor the new dimensions of a mechanic part they need. But in this town everybody seems to be crazy (a secretary who works naked, a group of people take the engineer as a rock & roll player, etc) and, in addition, this man is witness of a suicide, so he is trapped inside the town.::Michel Rudoy <mdrc@hp9000a1.uam.mx>')]\n",
            "***********\n"
          ],
          "name": "stdout"
        },
        {
          "output_type": "execute_result",
          "data": {
            "text/plain": [
              "(46793,\n",
              " 0.27169856429100037,\n",
              " \"Ondrej lives on a farm outside a small town with his family. One day a group of men arrive at the families house and the harmonious life they've led so far changes drastically for the worse.::cockpitanus\")"
            ]
          },
          "metadata": {
            "tags": []
          },
          "execution_count": 13
        }
      ]
    },
    {
      "cell_type": "code",
      "metadata": {
        "id": "yuDGVXpHF40O"
      },
      "source": [
        ""
      ],
      "execution_count": null,
      "outputs": []
    },
    {
      "cell_type": "code",
      "metadata": {
        "id": "wk8RITQ3SwTL"
      },
      "source": [
        ""
      ],
      "execution_count": null,
      "outputs": []
    }
  ]
}